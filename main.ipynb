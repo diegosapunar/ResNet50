{
 "cells": [
  {
   "cell_type": "markdown",
   "metadata": {},
   "source": [
    "# Tarea 2: Experimentos con Redes Neuronales Convolucionales (CNNs)"
   ]
  },
  {
   "cell_type": "markdown",
   "metadata": {},
   "source": [
    "**Nombre:** Diego Sapunar Opazo\n",
    "\n",
    "**Num. Alumno:** 14637480"
   ]
  },
  {
   "cell_type": "markdown",
   "metadata": {},
   "source": [
    "## Objetivo"
   ]
  },
  {
   "cell_type": "markdown",
   "metadata": {},
   "source": [
    "En esta actividad tendrán la oportunidad de continuar experimentando con CNNs. En particular, pondrán en práctica lo que conversamos sobre refinamiento de modelos (finetunning), funciones de pérdida y funciones de activación. Adicionalmente, a diferencia de la tarea 1 en que utilizaron Keras, en esta oportunidad utilizarán (PyTorch)."
   ]
  },
  {
   "cell_type": "markdown",
   "metadata": {
    "heading_collapsed": true
   },
   "source": [
    "## 0. Import Packages"
   ]
  },
  {
   "cell_type": "code",
   "execution_count": 50,
   "metadata": {
    "hidden": true
   },
   "outputs": [],
   "source": [
    "import torch\n",
    "import torch.nn as nn\n",
    "import torch.optim as optim\n",
    "from torch.optim import lr_scheduler\n",
    "import numpy as np\n",
    "import torchvision\n",
    "from torchvision import datasets, models\n",
    "import time\n",
    "import os\n",
    "import copy\n",
    "\n",
    "device = torch.device(\"cuda\" if torch.cuda.is_available() else \"cpu\")\n",
    "\n",
    "%matplotlib inline\n",
    "from matplotlib import pyplot as plt"
   ]
  },
  {
   "cell_type": "markdown",
   "metadata": {
    "heading_collapsed": true
   },
   "source": [
    "## 1. Finetunning y funciones de activación (50%)"
   ]
  },
  {
   "cell_type": "markdown",
   "metadata": {
    "hidden": true
   },
   "source": [
    "En esta parte de la tarea se utilizarán el set de datos Birds..."
   ]
  },
  {
   "cell_type": "markdown",
   "metadata": {
    "hidden": true
   },
   "source": [
    "### Actividad 1"
   ]
  },
  {
   "cell_type": "markdown",
   "metadata": {
    "hidden": true
   },
   "source": [
    "Entrenar un modelo de RestNet50 con PyTorch utilizando el set de datos Birds inicializando los pesos en fomra aleatoria. En base al set de entrenamiento, validación y test, analizar sus resultados incluyendo gráficos que indiquen:\n",
    "* Evolución de función de pérdida vd número de épocas.\n",
    "* Evolución de exactitud de clasificación vs número de épocas.\n",
    "* Exactitud de clasificación en set de test."
   ]
  },
  {
   "cell_type": "markdown",
   "metadata": {
    "heading_collapsed": true,
    "hidden": true
   },
   "source": [
    "#### Source: material del SidIng - Ayudantias"
   ]
  },
  {
   "cell_type": "code",
   "execution_count": 14,
   "metadata": {
    "hidden": true
   },
   "outputs": [],
   "source": [
    "def train_model(model, criterion, optimizer, scheduler, dic, num_epochs=50):\n",
    "    since = time.time()\n",
    "\n",
    "    best_model_wts = copy.deepcopy(model.state_dict())\n",
    "    best_acc = 0.0\n",
    "\n",
    "    for epoch in range(num_epochs):\n",
    "        print('Epoch {}/{}'.format(epoch, num_epochs - 1))\n",
    "        print('-' * 10)\n",
    "\n",
    "        # Each epoch has a training and validation phase\n",
    "        for phase in ['train', 'val']:\n",
    "            if phase == 'train':\n",
    "                scheduler.step()\n",
    "                model.train()  # Set model to training mode\n",
    "            else:\n",
    "                model.eval()   # Set model to evaluate mode\n",
    "\n",
    "            running_loss = 0.0\n",
    "            running_corrects = 0\n",
    "\n",
    "            # Iterate over data.\n",
    "            for inputs, labels in dataloaders[phase]:\n",
    "                inputs = inputs.to(device)\n",
    "                labels = labels.to(device)\n",
    "\n",
    "                # zero the parameter gradients\n",
    "                optimizer.zero_grad()\n",
    "\n",
    "                # forward\n",
    "                # track history if only in train\n",
    "                with torch.set_grad_enabled(phase == 'train'):\n",
    "                    outputs = model(inputs)\n",
    "                    _, preds = torch.max(outputs, 1)\n",
    "                    loss = criterion(outputs, labels)\n",
    "\n",
    "                    # backward + optimize only if in training phase\n",
    "                    if phase == 'train':\n",
    "                        loss.backward()\n",
    "                        optimizer.step()\n",
    "\n",
    "                # statistics\n",
    "                running_loss += loss.item() * inputs.size(0)\n",
    "                running_corrects += torch.sum(preds == labels.data)\n",
    "\n",
    "            epoch_loss = running_loss / dataset_sizes[phase]\n",
    "            epoch_acc = running_corrects.double() / dataset_sizes[phase]\n",
    "\n",
    "            print('{} Loss: {:.4f} Acc: {:.4f}'.format(\n",
    "                phase, epoch_loss, epoch_acc))\n",
    "            \n",
    "            dic[epoch].append((epoch_loss, epoch_acc))\n",
    "\n",
    "            # deep copy the model\n",
    "            if phase == 'val' and epoch_acc > best_acc:\n",
    "                best_acc = epoch_acc\n",
    "                best_model_wts = copy.deepcopy(model.state_dict())\n",
    "\n",
    "        print()\n",
    "\n",
    "    time_elapsed = time.time() - since\n",
    "    print('Training complete in {:.0f}m {:.0f}s'.format(\n",
    "        time_elapsed // 60, time_elapsed % 60))\n",
    "    print('Best val Acc: {:4f}'.format(best_acc))\n",
    "\n",
    "    # load best model weights\n",
    "    model.load_state_dict(best_model_wts)\n",
    "    return model"
   ]
  },
  {
   "cell_type": "code",
   "execution_count": 86,
   "metadata": {
    "hidden": true
   },
   "outputs": [],
   "source": [
    "data_transforms = {\n",
    "    'train': transforms.Compose([\n",
    "        transforms.RandomResizedCrop(224),\n",
    "        transforms.RandomHorizontalFlip(),\n",
    "        transforms.ToTensor(),\n",
    "        transforms.Normalize([0.485, 0.456, 0.406], [0.229, 0.224, 0.225])\n",
    "    ]),\n",
    "    'val': transforms.Compose([\n",
    "        transforms.Resize(256),\n",
    "        transforms.CenterCrop(224),\n",
    "        transforms.ToTensor(),\n",
    "        transforms.Normalize([0.485, 0.456, 0.406], [0.229, 0.224, 0.225])\n",
    "    ]),\n",
    "    'test': transforms.Compose([\n",
    "    transforms.Resize(256),\n",
    "    transforms.CenterCrop(224),\n",
    "    transforms.ToTensor(),\n",
    "    transforms.Normalize([0.485, 0.456, 0.406], [0.229, 0.224, 0.225])\n",
    "    ]),\n",
    "}\n",
    "\n",
    "data_dir = './data/BirdsDataset/CUB_200_2011'\n",
    "image_datasets = {x: datasets.ImageFolder(os.path.join(data_dir, x),\n",
    "                                          data_transforms[x])\n",
    "                  for x in ['train', 'val', 'test']}\n",
    "dataloaders = {x: torch.utils.data.DataLoader(image_datasets[x], batch_size=4,\n",
    "                                             shuffle=True, num_workers=4)\n",
    "              for x in ['train', 'val', 'test']}\n",
    "dataset_sizes = {x: len(image_datasets[x]) for x in ['train', 'val', 'test']}\n",
    "class_names = image_datasets['train'].classes"
   ]
  },
  {
   "cell_type": "code",
   "execution_count": 16,
   "metadata": {
    "hidden": true
   },
   "outputs": [],
   "source": [
    "dic_values = {}\n",
    "\n",
    "for i in range(50):\n",
    "    dic_values[i] = []\n"
   ]
  },
  {
   "cell_type": "code",
   "execution_count": 19,
   "metadata": {
    "hidden": true
   },
   "outputs": [
    {
     "name": "stdout",
     "output_type": "stream",
     "text": [
      "Epoch 0/49\n",
      "----------\n",
      "train Loss: 5.5998 Acc: 0.0058\n",
      "val Loss: 7.6072 Acc: 0.0104\n",
      "\n",
      "Epoch 1/49\n",
      "----------\n",
      "train Loss: 5.2767 Acc: 0.0089\n",
      "val Loss: 7.3391 Acc: 0.0156\n",
      "\n",
      "Epoch 2/49\n",
      "----------\n",
      "train Loss: 5.1770 Acc: 0.0114\n",
      "val Loss: 10.5515 Acc: 0.0121\n",
      "\n",
      "Epoch 3/49\n",
      "----------\n",
      "train Loss: 5.1045 Acc: 0.0112\n",
      "val Loss: 10.3223 Acc: 0.0234\n",
      "\n",
      "Epoch 4/49\n",
      "----------\n",
      "train Loss: 5.0410 Acc: 0.0163\n",
      "val Loss: 8.4376 Acc: 0.0199\n",
      "\n",
      "Epoch 5/49\n",
      "----------\n",
      "train Loss: 4.9959 Acc: 0.0172\n",
      "val Loss: 16.6021 Acc: 0.0182\n",
      "\n",
      "Epoch 6/49\n",
      "----------\n",
      "train Loss: 4.9557 Acc: 0.0202\n",
      "val Loss: 12.0085 Acc: 0.0147\n",
      "\n",
      "Epoch 7/49\n",
      "----------\n",
      "train Loss: 4.9073 Acc: 0.0211\n",
      "val Loss: 9.3081 Acc: 0.0260\n",
      "\n",
      "Epoch 8/49\n",
      "----------\n",
      "train Loss: 4.8741 Acc: 0.0270\n",
      "val Loss: 11.3173 Acc: 0.0381\n",
      "\n",
      "Epoch 9/49\n",
      "----------\n",
      "train Loss: 4.7721 Acc: 0.0312\n",
      "val Loss: 45.5115 Acc: 0.0355\n",
      "\n",
      "Epoch 10/49\n",
      "----------\n",
      "train Loss: 4.7286 Acc: 0.0384\n",
      "val Loss: 92.9519 Acc: 0.0381\n",
      "\n",
      "Epoch 11/49\n",
      "----------\n",
      "train Loss: 4.6836 Acc: 0.0400\n",
      "val Loss: 34.1468 Acc: 0.0442\n",
      "\n",
      "Epoch 12/49\n",
      "----------\n",
      "train Loss: 4.6161 Acc: 0.0449\n",
      "val Loss: 27.4370 Acc: 0.0554\n",
      "\n",
      "Epoch 13/49\n",
      "----------\n",
      "train Loss: 4.5572 Acc: 0.0493\n",
      "val Loss: 32.4408 Acc: 0.0407\n",
      "\n",
      "Epoch 14/49\n",
      "----------\n",
      "train Loss: 4.4234 Acc: 0.0635\n",
      "val Loss: 83.0016 Acc: 0.0641\n",
      "\n",
      "Epoch 15/49\n",
      "----------\n",
      "train Loss: 4.3790 Acc: 0.0709\n",
      "val Loss: 117.6054 Acc: 0.0589\n",
      "\n",
      "Epoch 16/49\n",
      "----------\n",
      "train Loss: 4.3384 Acc: 0.0736\n",
      "val Loss: 191.8430 Acc: 0.0623\n",
      "\n",
      "Epoch 17/49\n",
      "----------\n",
      "train Loss: 4.3331 Acc: 0.0774\n",
      "val Loss: 98.7052 Acc: 0.0615\n",
      "\n",
      "Epoch 18/49\n",
      "----------\n",
      "train Loss: 4.3180 Acc: 0.0758\n",
      "val Loss: 56.1948 Acc: 0.0736\n",
      "\n",
      "Epoch 19/49\n",
      "----------\n",
      "train Loss: 4.3065 Acc: 0.0815\n",
      "val Loss: 105.5727 Acc: 0.0727\n",
      "\n",
      "Epoch 20/49\n",
      "----------\n",
      "train Loss: 4.2839 Acc: 0.0814\n",
      "val Loss: 80.1592 Acc: 0.0727\n",
      "\n",
      "Epoch 21/49\n",
      "----------\n",
      "train Loss: 4.2848 Acc: 0.0832\n",
      "val Loss: 157.4263 Acc: 0.0745\n",
      "\n",
      "Epoch 22/49\n",
      "----------\n",
      "train Loss: 4.2598 Acc: 0.0854\n",
      "val Loss: 549.8873 Acc: 0.0641\n",
      "\n",
      "Epoch 23/49\n",
      "----------\n",
      "train Loss: 4.2590 Acc: 0.0823\n",
      "val Loss: 78.6914 Acc: 0.0736\n",
      "\n",
      "Epoch 24/49\n",
      "----------\n",
      "train Loss: 4.2351 Acc: 0.0865\n",
      "val Loss: 80.3545 Acc: 0.0788\n",
      "\n",
      "Epoch 25/49\n",
      "----------\n",
      "train Loss: 4.2174 Acc: 0.0850\n",
      "val Loss: 344.9341 Acc: 0.0788\n",
      "\n",
      "Epoch 26/49\n",
      "----------\n",
      "train Loss: 4.2094 Acc: 0.0884\n",
      "val Loss: 151.3697 Acc: 0.0831\n",
      "\n",
      "Epoch 27/49\n",
      "----------\n",
      "train Loss: 4.1894 Acc: 0.0943\n",
      "val Loss: 50.8656 Acc: 0.0874\n",
      "\n",
      "Epoch 28/49\n",
      "----------\n",
      "train Loss: 4.1768 Acc: 0.0889\n",
      "val Loss: 203.9865 Acc: 0.0874\n",
      "\n",
      "Epoch 29/49\n",
      "----------\n",
      "train Loss: 4.1489 Acc: 0.0967\n",
      "val Loss: 258.8965 Acc: 0.0771\n",
      "\n",
      "Epoch 30/49\n",
      "----------\n",
      "train Loss: 4.1317 Acc: 0.0973\n",
      "val Loss: 82.9854 Acc: 0.1022\n",
      "\n",
      "Epoch 31/49\n",
      "----------\n",
      "train Loss: 4.1305 Acc: 0.1009\n",
      "val Loss: 306.0479 Acc: 0.0900\n",
      "\n",
      "Epoch 32/49\n",
      "----------\n",
      "train Loss: 4.1316 Acc: 0.0975\n",
      "val Loss: 163.4540 Acc: 0.0874\n",
      "\n",
      "Epoch 33/49\n",
      "----------\n",
      "train Loss: 4.1316 Acc: 0.0968\n",
      "val Loss: 241.7570 Acc: 0.0926\n",
      "\n",
      "Epoch 34/49\n",
      "----------\n",
      "train Loss: 4.1192 Acc: 0.1033\n",
      "val Loss: 359.0747 Acc: 0.0926\n",
      "\n",
      "Epoch 35/49\n",
      "----------\n",
      "train Loss: 4.1199 Acc: 0.1032\n",
      "val Loss: 354.2294 Acc: 0.0961\n",
      "\n",
      "Epoch 36/49\n",
      "----------\n",
      "train Loss: 4.1227 Acc: 0.1016\n",
      "val Loss: 291.7259 Acc: 0.0779\n",
      "\n",
      "Epoch 37/49\n",
      "----------\n",
      "train Loss: 4.1143 Acc: 0.1046\n",
      "val Loss: 164.1028 Acc: 0.0909\n",
      "\n",
      "Epoch 38/49\n",
      "----------\n",
      "train Loss: 4.1221 Acc: 0.0995\n",
      "val Loss: 114.1494 Acc: 0.0944\n",
      "\n",
      "Epoch 39/49\n",
      "----------\n",
      "train Loss: 4.1010 Acc: 0.1047\n",
      "val Loss: 226.3329 Acc: 0.0952\n",
      "\n",
      "Epoch 40/49\n",
      "----------\n",
      "train Loss: 4.1060 Acc: 0.0981\n",
      "val Loss: 335.6154 Acc: 0.0814\n",
      "\n",
      "Epoch 41/49\n",
      "----------\n",
      "train Loss: 4.1032 Acc: 0.1022\n",
      "val Loss: 336.4238 Acc: 0.0961\n",
      "\n",
      "Epoch 42/49\n",
      "----------\n",
      "train Loss: 4.1016 Acc: 0.1004\n",
      "val Loss: 184.0671 Acc: 0.0874\n",
      "\n",
      "Epoch 43/49\n",
      "----------\n",
      "train Loss: 4.1073 Acc: 0.0991\n",
      "val Loss: 493.7234 Acc: 0.0909\n",
      "\n",
      "Epoch 44/49\n",
      "----------\n",
      "train Loss: 4.0994 Acc: 0.1027\n",
      "val Loss: 155.3614 Acc: 0.1004\n",
      "\n",
      "Epoch 45/49\n",
      "----------\n",
      "train Loss: 4.0732 Acc: 0.1087\n",
      "val Loss: 342.5137 Acc: 0.0840\n",
      "\n",
      "Epoch 46/49\n",
      "----------\n",
      "train Loss: 4.1033 Acc: 0.1048\n",
      "val Loss: 108.2160 Acc: 0.0909\n",
      "\n",
      "Epoch 47/49\n",
      "----------\n",
      "train Loss: 4.0987 Acc: 0.1039\n",
      "val Loss: 166.4709 Acc: 0.0926\n",
      "\n",
      "Epoch 48/49\n",
      "----------\n",
      "train Loss: 4.0998 Acc: 0.1059\n",
      "val Loss: 295.3908 Acc: 0.0866\n",
      "\n",
      "Epoch 49/49\n",
      "----------\n",
      "train Loss: 4.0897 Acc: 0.1051\n",
      "val Loss: 256.7565 Acc: 0.0970\n",
      "\n",
      "Training complete in 87m 4s\n",
      "Best val Acc: 0.102165\n"
     ]
    }
   ],
   "source": [
    "model_ft = models.resnet50(pretrained=False)\n",
    "num_ftrs = model_ft.fc.in_features\n",
    "model_ft.fc = nn.Linear(num_ftrs, 200)\n",
    "\n",
    "model_ft = model_ft.to(device)\n",
    "\n",
    "criterion = nn.CrossEntropyLoss()\n",
    "\n",
    "# Observe that all parameters are being optimized\n",
    "optimizer_ft = optim.SGD(model_ft.parameters(), lr=0.001, momentum=0.9)\n",
    "\n",
    "# Decay LR by a factor of 0.1 every 7 epochs\n",
    "exp_lr_scheduler = lr_scheduler.StepLR(optimizer_ft, step_size=15, gamma=0.1)\n",
    "\n",
    "model_ft = train_model(model_ft, criterion, optimizer_ft, exp_lr_scheduler, dic_values,\n",
    "                       num_epochs=50)"
   ]
  },
  {
   "cell_type": "code",
   "execution_count": null,
   "metadata": {
    "hidden": true
   },
   "outputs": [],
   "source": [
    "# Eliminando Key de mas\n",
    "del dic_values[50]"
   ]
  },
  {
   "cell_type": "code",
   "execution_count": 64,
   "metadata": {
    "hidden": true
   },
   "outputs": [],
   "source": [
    "train_losses = []\n",
    "val_losses = []\n",
    "\n",
    "train_acc = []\n",
    "val_acc = []\n",
    "\n",
    "for epoch in dic_values:\n",
    "    train_losses.append(dic_values[epoch][0][0])\n",
    "    val_losses.append(dic_values[epoch][1][0])\n",
    "    \n",
    "    train_acc.append(dic_values[epoch][0][1].item())\n",
    "    val_acc.append(dic_values[epoch][1][1].item())"
   ]
  },
  {
   "cell_type": "markdown",
   "metadata": {
    "hidden": true
   },
   "source": [
    "#### Evolución de función de pérdida vs número de épocas"
   ]
  },
  {
   "cell_type": "code",
   "execution_count": 65,
   "metadata": {
    "hidden": true
   },
   "outputs": [
    {
     "data": {
      "text/plain": [
       "Text(0.5, 0, 'Épocas(Epochs)')"
      ]
     },
     "execution_count": 65,
     "metadata": {},
     "output_type": "execute_result"
    },
    {
     "data": {
      "image/png": "[encoded data removed]",
      "text/plain": [
       "<Figure size 432x288 with 1 Axes>"
      ]
     },
     "metadata": {
      "needs_background": "light"
     },
     "output_type": "display_data"
    }
   ],
   "source": [
    "# line\n",
    "plt.plot(train_losses)\n",
    "\n",
    "# title\n",
    "plt.title(\"Evolución de función de pérdida vs número de épocas - TRAIN SET\")\n",
    "\n",
    "# labels de los ejes\n",
    "plt.ylabel('Pérdida(Loss)')\n",
    "plt.xlabel('Épocas(Epochs)')"
   ]
  },
  {
   "cell_type": "code",
   "execution_count": 66,
   "metadata": {
    "hidden": true
   },
   "outputs": [
    {
     "data": {
      "text/plain": [
       "Text(0.5, 0, 'Épocas(Epochs)')"
      ]
     },
     "execution_count": 66,
     "metadata": {},
     "output_type": "execute_result"
    },
    {
     "data": {
      "image/png": "[encoded data removed]",
      "text/plain": [
       "<Figure size 432x288 with 1 Axes>"
      ]
     },
     "metadata": {
      "needs_background": "light"
     },
     "output_type": "display_data"
    }
   ],
   "source": [
    "# line\n",
    "plt.plot(val_losses)\n",
    "\n",
    "# title\n",
    "plt.title(\"Evolución de función de pérdida vs número de épocas - VALIDATION SET\")\n",
    "\n",
    "# labels de los ejes\n",
    "plt.ylabel('Pérdida(Loss)')\n",
    "plt.xlabel('Épocas(Epochs)')"
   ]
  },
  {
   "cell_type": "markdown",
   "metadata": {
    "hidden": true
   },
   "source": [
    "#### Evolución de exactitud de clasificación vs número de épocas"
   ]
  },
  {
   "cell_type": "code",
   "execution_count": 160,
   "metadata": {
    "hidden": true
   },
   "outputs": [
    {
     "data": {
      "text/plain": [
       "<matplotlib.legend.Legend at 0x7fc45a479d30>"
      ]
     },
     "execution_count": 160,
     "metadata": {},
     "output_type": "execute_result"
    },
    {
     "data": {
      "image/png": "[encoded data removed]",
      "text/plain": [
       "<Figure size 432x288 with 1 Axes>"
      ]
     },
     "metadata": {
      "needs_background": "light"
     },
     "output_type": "display_data"
    }
   ],
   "source": [
    "# line\n",
    "plt.plot(train_acc)\n",
    "plt.plot(val_acc)\n",
    "\n",
    "# title\n",
    "plt.title(\"Evolución de exactitud de clasificación vs número de épocas\")\n",
    "\n",
    "# labels de los ejes\n",
    "plt.ylabel('Exactitud de Clasificación(Accuracy)')\n",
    "plt.xlabel('Épocas(Epochs)')\n",
    "\n",
    "# leyenda\n",
    "plt.legend(['Train', 'Validation'])"
   ]
  },
  {
   "cell_type": "markdown",
   "metadata": {
    "hidden": true
   },
   "source": [
    "#### Exactitud de clasificación final en set de test - también obtenemos los mejores y peores resultados por clase (para la Actividad 3)"
   ]
  },
  {
   "cell_type": "markdown",
   "metadata": {
    "hidden": true
   },
   "source": [
    "Source: Ayudantia SidIng"
   ]
  },
  {
   "cell_type": "code",
   "execution_count": 99,
   "metadata": {
    "hidden": true
   },
   "outputs": [],
   "source": [
    "'''\n",
    "Vamos a testear nuestro modelo entrenado en nuesto set de test, guardando los correctos por clase.\n",
    "'''\n",
    "\n",
    "corrects = {}\n",
    "examples_per_class = {}\n",
    "\n",
    "\n",
    "for i in range(200):\n",
    "    corrects[i] = 0\n",
    "    examples_per_class[i] = 0\n",
    "    \n",
    "\n",
    "# Iterate over data.\n",
    "for inputs, labels in dataloaders['test']:\n",
    "    inputs = inputs.to(device)\n",
    "    labels = labels.to(device)\n",
    "    \n",
    "    outputs = model_ft(inputs)\n",
    "    \n",
    "    _, preds = torch.max(outputs, 1)\n",
    "\n",
    "    for j in range(4):\n",
    "        if (labels.data[j].item() == preds[j].item()):\n",
    "            corrects[preds[j].item()] += 1\n",
    "            \n",
    "        examples_per_class[labels[j].item()] += 1\n",
    "    "
   ]
  },
  {
   "cell_type": "code",
   "execution_count": 103,
   "metadata": {
    "hidden": true
   },
   "outputs": [
    {
     "name": "stdout",
     "output_type": "stream",
     "text": [
      "0.1\n"
     ]
    }
   ],
   "source": [
    "# Vamos a Obtener la Exactitud total\n",
    "print((sum(corrects.values()))\n",
    "      /(sum(examples_per_class.values())))"
   ]
  },
  {
   "cell_type": "markdown",
   "metadata": {
    "hidden": true
   },
   "source": [
    "Vemos una Exactitud de clasificación Final (Accuracy) en el set de test de 0.1 = 10%"
   ]
  },
  {
   "cell_type": "markdown",
   "metadata": {
    "hidden": true
   },
   "source": [
    "#### Analysis Actividad 1"
   ]
  },
  {
   "cell_type": "markdown",
   "metadata": {
    "hidden": true
   },
   "source": [
    "Respecto a la Perdida vemos que la perdida menor en el set de train fue de **4.073229166770024** y en el set de val fue de **7.33907534776828**, sin duda esto es un reflejo que nuestro modelo se esta **sobre-entrenando**. También acerca de las pérdidas que va teniendo el modelo a lo largo del tiempo que el set de train baja de manera homogenea, y el modelo el train de set totalmente heterogenea, teniendo unos peaks muy extraños. Esto se debe a que la actualización de los pesos no esta siendo efectiva, ya se por el **sobre-entrenando** que esta generando el modelo, o también porque el batch_size que utilice es muy pequeño.\n",
    "\n",
    "Respecto a la exactitud del modelo, vemos que la mayor exactitud en el set de train fue de **0.1087300749498575** y en el set de val fue de **0.10216450216450217**, siendo la del train de set mayor en **0.006565572785**, lo cual corresponde a un 6.5% mayor (estadisticamente = 0.1087300749498575/0.10216450216450217 - 1), lo cual si se considera representativo. Que la exactitud sea mayor en el set de train es un relfejo que existe un **sobre-entrenando**. También observando los gráficos se  en un comienzo suben homogenamente, pero desde un punto se separan (muy sutilmente, siendo que el Train continua subiendo y el Validate converge. Estas \"separaciones\" se deben a un **sobre-entrenando**. Esta separación ocurre en la epocs 13.\n",
    "\n",
    "Respecto a la Exactitud de clasificación final en el set de test fue de 0.1, más cercana a la exactitud del set de validación que el de test, esto quiere decir que nuestra estrategia de validación es correcta. Problemas de este sobre-entrenamiento que ha sido mencionado a lo largo del analysis se puede deber que no tenemos muchos datos, lo cual es uno de los puntos fundamentales para obtener buenos resultados en redes de aprendizaje de máquinas profundas, o puede haber existido una mala definición de lo Hyperparametros, sin embargo, mi intuición e investogación tanto lo que hemos visto en clases como lo que he investigado por mi cuenta se debe a la primer argumento."
   ]
  },
  {
   "cell_type": "code",
   "execution_count": 105,
   "metadata": {
    "hidden": true
   },
   "outputs": [],
   "source": [
    "# Vamos a obtener las Accuracies de cada clase para la Actividad 3\n",
    "acc_per_class = {}\n",
    "\n",
    "for class_ in range(200):\n",
    "    acc_per_class[class_] = ((corrects[class_]) / examples_per_class[class_])"
   ]
  },
  {
   "cell_type": "markdown",
   "metadata": {
    "heading_collapsed": true,
    "hidden": true
   },
   "source": [
    "#### Exportando los diccionarios"
   ]
  },
  {
   "cell_type": "code",
   "execution_count": 127,
   "metadata": {
    "hidden": true
   },
   "outputs": [],
   "source": [
    "import json\n",
    "\n",
    "\n",
    "json = json.dumps(corrects)\n",
    "f = open(\"./corrects_act1.json\",\"w\")\n",
    "f.write(json)\n",
    "f.close()\n",
    "\n",
    "json = json.dumps(examples_per_class)\n",
    "f = open(\"./examples_per_class_act1.json\",\"w\")\n",
    "f.write(json)\n",
    "f.close()\n",
    "\n",
    "json = json.dumps(acc_per_class)\n",
    "f = open(\"./acc_per_class_act1.json\",\"w\")\n",
    "f.write(json)\n",
    "f.close()"
   ]
  },
  {
   "cell_type": "markdown",
   "metadata": {
    "hidden": true
   },
   "source": [
    "### Actividad 2"
   ]
  },
  {
   "cell_type": "markdown",
   "metadata": {
    "hidden": true
   },
   "source": [
    "Repita la actividad anterior, pero en lugar de inicializar los pesos en forma aleatoria, pre-entrene la red utilizando ImageNet y utilice los pesos resultantes como pesos resultantes como punto de inicio para entrenar ResNet 50 con el set de datos de Birds.\n",
    "\n",
    "Analizar sus resultados incluyendo gráficos que indiquen:\n",
    "* Evolución de función de pérdida vs número de épocas.\n",
    "* Evolución de exactitud de clasificación vs número de épocas.\n",
    "* Exactitud de clasificación final en set de test."
   ]
  },
  {
   "cell_type": "markdown",
   "metadata": {
    "heading_collapsed": true,
    "hidden": true
   },
   "source": [
    "#### Entrenando Modelo"
   ]
  },
  {
   "cell_type": "code",
   "execution_count": 128,
   "metadata": {
    "hidden": true
   },
   "outputs": [],
   "source": [
    "'''\n",
    "Para poder relizar una correcta comparacion con la Actividad 1, se mantiene la misma implementación general.\n",
    "'''\n",
    "\n",
    "dic_values_act2 = {}\n",
    "\n",
    "for i in range(50):\n",
    "    dic_values_act2[i] = []\n"
   ]
  },
  {
   "cell_type": "code",
   "execution_count": 129,
   "metadata": {
    "hidden": true
   },
   "outputs": [
    {
     "name": "stdout",
     "output_type": "stream",
     "text": [
      "Epoch 0/49\n",
      "----------\n",
      "train Loss: 4.1851 Acc: 0.1083\n",
      "val Loss: 2.3808 Acc: 0.3506\n",
      "\n",
      "Epoch 1/49\n",
      "----------\n",
      "train Loss: 2.9318 Acc: 0.2896\n",
      "val Loss: 1.8325 Acc: 0.5316\n",
      "\n",
      "Epoch 2/49\n",
      "----------\n",
      "train Loss: 2.4820 Acc: 0.3800\n",
      "val Loss: 1.5659 Acc: 0.6009\n",
      "\n",
      "Epoch 3/49\n",
      "----------\n",
      "train Loss: 2.2290 Acc: 0.4399\n",
      "val Loss: 1.5702 Acc: 0.6199\n",
      "\n",
      "Epoch 4/49\n",
      "----------\n",
      "train Loss: 2.0598 Acc: 0.4798\n",
      "val Loss: 1.2834 Acc: 0.6823\n",
      "\n",
      "Epoch 5/49\n",
      "----------\n",
      "train Loss: 1.9484 Acc: 0.5084\n",
      "val Loss: 1.1854 Acc: 0.6926\n",
      "\n",
      "Epoch 6/49\n",
      "----------\n",
      "train Loss: 1.8313 Acc: 0.5316\n",
      "val Loss: 1.3677 Acc: 0.6667\n",
      "\n",
      "Epoch 7/49\n",
      "----------\n",
      "train Loss: 1.7647 Acc: 0.5464\n",
      "val Loss: 1.2110 Acc: 0.7126\n",
      "\n",
      "Epoch 8/49\n",
      "----------\n",
      "train Loss: 1.7017 Acc: 0.5726\n",
      "val Loss: 1.2877 Acc: 0.7152\n",
      "\n",
      "Epoch 9/49\n",
      "----------\n",
      "train Loss: 1.6111 Acc: 0.5919\n",
      "val Loss: 1.2236 Acc: 0.7004\n",
      "\n",
      "Epoch 10/49\n",
      "----------\n",
      "train Loss: 1.5566 Acc: 0.5921\n",
      "val Loss: 1.1842 Acc: 0.7152\n",
      "\n",
      "Epoch 11/49\n",
      "----------\n",
      "train Loss: 1.5172 Acc: 0.6132\n",
      "val Loss: 1.1890 Acc: 0.7394\n",
      "\n",
      "Epoch 12/49\n",
      "----------\n",
      "train Loss: 1.4780 Acc: 0.6145\n",
      "val Loss: 1.1393 Acc: 0.7584\n",
      "\n",
      "Epoch 13/49\n",
      "----------\n",
      "train Loss: 1.4176 Acc: 0.6359\n",
      "val Loss: 1.3319 Acc: 0.7247\n",
      "\n",
      "Epoch 14/49\n",
      "----------\n",
      "train Loss: 1.1420 Acc: 0.7123\n",
      "val Loss: 0.9114 Acc: 0.8052\n",
      "\n",
      "Epoch 15/49\n",
      "----------\n",
      "train Loss: 1.0049 Acc: 0.7470\n",
      "val Loss: 0.8710 Acc: 0.8121\n",
      "\n",
      "Epoch 16/49\n",
      "----------\n",
      "train Loss: 0.9601 Acc: 0.7559\n",
      "val Loss: 0.8327 Acc: 0.8190\n",
      "\n",
      "Epoch 17/49\n",
      "----------\n",
      "train Loss: 0.9250 Acc: 0.7642\n",
      "val Loss: 0.8232 Acc: 0.8182\n",
      "\n",
      "Epoch 18/49\n",
      "----------\n",
      "train Loss: 0.9366 Acc: 0.7666\n",
      "val Loss: 0.8209 Acc: 0.8130\n",
      "\n",
      "Epoch 19/49\n",
      "----------\n",
      "train Loss: 0.8774 Acc: 0.7802\n",
      "val Loss: 0.8431 Acc: 0.8234\n",
      "\n",
      "Epoch 20/49\n",
      "----------\n",
      "train Loss: 0.9045 Acc: 0.7701\n",
      "val Loss: 0.8314 Acc: 0.8251\n",
      "\n",
      "Epoch 21/49\n",
      "----------\n",
      "train Loss: 0.8579 Acc: 0.7849\n",
      "val Loss: 0.8037 Acc: 0.8234\n",
      "\n",
      "Epoch 22/49\n",
      "----------\n",
      "train Loss: 0.8702 Acc: 0.7821\n",
      "val Loss: 0.7893 Acc: 0.8216\n",
      "\n",
      "Epoch 23/49\n",
      "----------\n",
      "train Loss: 0.8333 Acc: 0.7954\n",
      "val Loss: 0.8044 Acc: 0.8225\n",
      "\n",
      "Epoch 24/49\n",
      "----------\n",
      "train Loss: 0.8184 Acc: 0.7935\n",
      "val Loss: 0.8327 Acc: 0.8294\n",
      "\n",
      "Epoch 25/49\n",
      "----------\n",
      "train Loss: 0.8029 Acc: 0.7949\n",
      "val Loss: 0.8031 Acc: 0.8329\n",
      "\n",
      "Epoch 26/49\n",
      "----------\n",
      "train Loss: 0.8047 Acc: 0.7967\n",
      "val Loss: 0.8173 Acc: 0.8251\n",
      "\n",
      "Epoch 27/49\n",
      "----------\n",
      "train Loss: 0.7979 Acc: 0.7980\n",
      "val Loss: 0.7859 Acc: 0.8268\n",
      "\n",
      "Epoch 28/49\n",
      "----------\n",
      "train Loss: 0.8113 Acc: 0.7957\n",
      "val Loss: 0.8088 Acc: 0.8286\n",
      "\n",
      "Epoch 29/49\n",
      "----------\n",
      "train Loss: 0.7790 Acc: 0.8058\n",
      "val Loss: 0.8132 Acc: 0.8372\n",
      "\n",
      "Epoch 30/49\n",
      "----------\n",
      "train Loss: 0.7923 Acc: 0.8020\n",
      "val Loss: 0.8091 Acc: 0.8303\n",
      "\n",
      "Epoch 31/49\n",
      "----------\n",
      "train Loss: 0.7808 Acc: 0.8015\n",
      "val Loss: 0.8154 Acc: 0.8260\n",
      "\n",
      "Epoch 32/49\n",
      "----------\n",
      "train Loss: 0.7958 Acc: 0.8026\n",
      "val Loss: 0.8053 Acc: 0.8303\n",
      "\n",
      "Epoch 33/49\n",
      "----------\n",
      "train Loss: 0.7781 Acc: 0.8070\n",
      "val Loss: 0.8260 Acc: 0.8338\n",
      "\n",
      "Epoch 34/49\n",
      "----------\n",
      "train Loss: 0.7495 Acc: 0.8100\n",
      "val Loss: 0.7774 Acc: 0.8355\n",
      "\n",
      "Epoch 35/49\n",
      "----------\n",
      "train Loss: 0.7320 Acc: 0.8144\n",
      "val Loss: 0.7822 Acc: 0.8294\n",
      "\n",
      "Epoch 36/49\n",
      "----------\n",
      "train Loss: 0.7778 Acc: 0.8053\n",
      "val Loss: 0.7826 Acc: 0.8355\n",
      "\n",
      "Epoch 37/49\n",
      "----------\n",
      "train Loss: 0.7604 Acc: 0.8070\n",
      "val Loss: 0.7848 Acc: 0.8320\n",
      "\n",
      "Epoch 38/49\n",
      "----------\n",
      "train Loss: 0.7826 Acc: 0.8035\n",
      "val Loss: 0.7902 Acc: 0.8199\n",
      "\n",
      "Epoch 39/49\n",
      "----------\n",
      "train Loss: 0.7463 Acc: 0.8159\n",
      "val Loss: 0.7963 Acc: 0.8398\n",
      "\n",
      "Epoch 40/49\n",
      "----------\n",
      "train Loss: 0.7713 Acc: 0.8098\n",
      "val Loss: 0.7756 Acc: 0.8390\n",
      "\n",
      "Epoch 41/49\n",
      "----------\n",
      "train Loss: 0.7568 Acc: 0.8152\n",
      "val Loss: 0.7905 Acc: 0.8320\n",
      "\n",
      "Epoch 42/49\n",
      "----------\n",
      "train Loss: 0.7558 Acc: 0.8120\n",
      "val Loss: 0.7908 Acc: 0.8294\n",
      "\n",
      "Epoch 43/49\n",
      "----------\n",
      "train Loss: 0.7753 Acc: 0.8082\n",
      "val Loss: 0.7765 Acc: 0.8346\n",
      "\n",
      "Epoch 44/49\n",
      "----------\n",
      "train Loss: 0.7407 Acc: 0.8142\n",
      "val Loss: 0.7914 Acc: 0.8355\n",
      "\n",
      "Epoch 45/49\n",
      "----------\n",
      "train Loss: 0.7617 Acc: 0.8147\n",
      "val Loss: 0.7620 Acc: 0.8320\n",
      "\n",
      "Epoch 46/49\n",
      "----------\n",
      "train Loss: 0.7675 Acc: 0.8115\n",
      "val Loss: 0.7919 Acc: 0.8346\n",
      "\n",
      "Epoch 47/49\n",
      "----------\n",
      "train Loss: 0.7509 Acc: 0.8132\n",
      "val Loss: 0.7801 Acc: 0.8398\n",
      "\n",
      "Epoch 48/49\n",
      "----------\n",
      "train Loss: 0.7549 Acc: 0.8107\n",
      "val Loss: 0.7960 Acc: 0.8346\n",
      "\n",
      "Epoch 49/49\n",
      "----------\n",
      "train Loss: 0.7567 Acc: 0.8137\n",
      "val Loss: 0.8055 Acc: 0.8294\n",
      "\n",
      "Training complete in 87m 25s\n",
      "Best val Acc: 0.839827\n"
     ]
    }
   ],
   "source": [
    "model_ft_act2 = models.resnet50(pretrained=True)\n",
    "num_ftrs_act2 = model_ft_act2.fc.in_features\n",
    "model_ft_act2.fc = nn.Linear(num_ftrs_act2, 200)\n",
    "\n",
    "model_ft_act2 = model_ft_act2.to(device)\n",
    "\n",
    "criterion = nn.CrossEntropyLoss()\n",
    "\n",
    "# Observe that all parameters are being optimized\n",
    "optimizer_ft_act2 = optim.SGD(model_ft_act2.parameters(), lr=0.001, momentum=0.9)\n",
    "\n",
    "# Decay LR by a factor of 0.1 every 7 epochs\n",
    "exp_lr_scheduler = lr_scheduler.StepLR(optimizer_ft_act2, step_size=15, gamma=0.1)\n",
    "\n",
    "model_ft_act2 = train_model(model_ft_act2, criterion, optimizer_ft_act2, exp_lr_scheduler, dic_values_act2,\n",
    "                       num_epochs=50)"
   ]
  },
  {
   "cell_type": "code",
   "execution_count": 130,
   "metadata": {
    "hidden": true
   },
   "outputs": [],
   "source": [
    "train_losses_act2 = []\n",
    "val_losses_act2 = []\n",
    "\n",
    "train_acc_act2 = []\n",
    "val_acc_act2 = []\n",
    "\n",
    "for epoch in dic_values_act2:\n",
    "    train_losses_act2.append(dic_values_act2[epoch][0][0])\n",
    "    val_losses_act2.append(dic_values_act2[epoch][1][0])\n",
    "    \n",
    "    train_acc_act2.append(dic_values_act2[epoch][0][1].item())\n",
    "    val_acc_act2.append(dic_values_act2[epoch][1][1].item())"
   ]
  },
  {
   "cell_type": "markdown",
   "metadata": {
    "hidden": true
   },
   "source": [
    "#### Evolución de función de pérdida vs número de épocas"
   ]
  },
  {
   "cell_type": "code",
   "execution_count": 163,
   "metadata": {
    "hidden": true
   },
   "outputs": [
    {
     "data": {
      "text/plain": [
       "<matplotlib.legend.Legend at 0x7fc4533c2198>"
      ]
     },
     "execution_count": 163,
     "metadata": {},
     "output_type": "execute_result"
    },
    {
     "data": {
      "image/png": "[encoded data removed]",
      "text/plain": [
       "<Figure size 432x288 with 1 Axes>"
      ]
     },
     "metadata": {
      "needs_background": "light"
     },
     "output_type": "display_data"
    }
   ],
   "source": [
    "# line\n",
    "plt.plot(train_losses_act2)\n",
    "plt.plot(val_losses_act2)\n",
    "\n",
    "# title\n",
    "plt.title(\"Evolución de función de pérdida vs número de épocas\")\n",
    "\n",
    "# labels de los ejes\n",
    "plt.ylabel('Pérdida(Loss)')\n",
    "plt.xlabel('Épocas(Epochs)')\n",
    "\n",
    "# leyenda\n",
    "plt.legend(['Train', 'Validation'])"
   ]
  },
  {
   "cell_type": "markdown",
   "metadata": {
    "hidden": true
   },
   "source": [
    "#### Evolución de exactitud de clasificación vs número de épocas"
   ]
  },
  {
   "cell_type": "code",
   "execution_count": 164,
   "metadata": {
    "hidden": true
   },
   "outputs": [
    {
     "data": {
      "text/plain": [
       "<matplotlib.legend.Legend at 0x7fc4533a0f98>"
      ]
     },
     "execution_count": 164,
     "metadata": {},
     "output_type": "execute_result"
    },
    {
     "data": {
      "image/png": "[encoded data removed]",
      "text/plain": [
       "<Figure size 432x288 with 1 Axes>"
      ]
     },
     "metadata": {
      "needs_background": "light"
     },
     "output_type": "display_data"
    }
   ],
   "source": [
    "# line\n",
    "plt.plot(train_acc_act2)\n",
    "plt.plot(val_acc_act2)\n",
    "\n",
    "# title\n",
    "plt.title(\"Evolución de exactitud de clasificación vs número de épocas\")\n",
    "\n",
    "# labels de los ejes\n",
    "plt.ylabel('Exactitud de Clasificación(Accuracy)')\n",
    "plt.xlabel('Épocas(Epochs)')\n",
    "\n",
    "# leyenda\n",
    "plt.legend(['Train', 'Validation'])"
   ]
  },
  {
   "cell_type": "markdown",
   "metadata": {
    "hidden": true
   },
   "source": [
    "#### Exactitud de clasificación final en set de test - también obtenemos los mejores y peores resultados por clase (para la Actividad 3)"
   ]
  },
  {
   "cell_type": "markdown",
   "metadata": {
    "hidden": true
   },
   "source": [
    "Source: Ayudantia SidIng"
   ]
  },
  {
   "cell_type": "code",
   "execution_count": 136,
   "metadata": {
    "hidden": true
   },
   "outputs": [],
   "source": [
    "'''\n",
    "Vamos a testear nuestro modelo entrenado en nuesto set de test, guardando los correctos por clase.\n",
    "'''\n",
    "\n",
    "corrects_act2 = {}\n",
    "examples_per_class_act2 = {}\n",
    "\n",
    "\n",
    "for i in range(200):\n",
    "    corrects_act2[i] = 0\n",
    "    examples_per_class_act2[i] = 0\n",
    "    \n",
    "\n",
    "# Iterate over data.\n",
    "for inputs, labels in dataloaders['test']:\n",
    "    inputs = inputs.to(device)\n",
    "    labels = labels.to(device)\n",
    "    \n",
    "    outputs = model_ft_act2(inputs)\n",
    "    \n",
    "    _, preds = torch.max(outputs, 1)\n",
    "\n",
    "    for j in range(4):\n",
    "        if (labels.data[j].item() == preds[j].item()):\n",
    "            corrects_act2[preds[j].item()] += 1\n",
    "            \n",
    "        examples_per_class_act2[labels[j].item()] += 1\n",
    "    "
   ]
  },
  {
   "cell_type": "code",
   "execution_count": 137,
   "metadata": {
    "hidden": true
   },
   "outputs": [
    {
     "name": "stdout",
     "output_type": "stream",
     "text": [
      "0.8336206896551724\n"
     ]
    }
   ],
   "source": [
    "# Vamos a Obtener la Exactitud total\n",
    "print((sum(corrects_act2.values()))\n",
    "      /(sum(examples_per_class_act2.values())))"
   ]
  },
  {
   "cell_type": "markdown",
   "metadata": {
    "hidden": true
   },
   "source": [
    "Vemos una Exactitud de clasificación Final (Accuracy) en el set de test de 0.8336206896551724 = 83.36206896551724%"
   ]
  },
  {
   "cell_type": "markdown",
   "metadata": {
    "hidden": true
   },
   "source": [
    "#### Analysis Actividad 2"
   ]
  },
  {
   "cell_type": "markdown",
   "metadata": {
    "hidden": true
   },
   "source": [
    "Respecto a la Perdida vemos que la perdida menor en el set de train fue de **0.7319886496662779** y en el set de validación fue de **0.7620384426862082**, las cuales son bastante similares (la del validación un poco mayor, 4% estadisticamente = 0.7620384426862082/0.7319886496662779 - 1), de lo cual se concluye que el modelo se comporta bastante bien, y sin sobre-entrenamiento. También acerca de las pérdidas que va teniendo el modelo a lo largo del tiempo que el set de train baja de manera homogenea en conjunto con el set de validación, vemos que los modelos comvergen en la época 20, es decir, podriamos haberlo entrenado en menos epocas.\n",
    "\n",
    "Respecto a la exactitud del modelo, vemos que la mayor exactitud en el set de train fue de **0.815897814842183** y en el set de validación fue de **0.8398268398268398**, vemos que la del set de validación fue un tanto mayor, lo que claramente nos relfeja que no estamos teniendo sobre-entrenamiento. Vemos que el modelo connverge en la epoca 20.\n",
    "\n",
    "Respecto a la Exactitud de clasificación final en el set de test fue de 0.8336206896551724, más cercana a la exactitud del set de validación que el de test, esto quiere decir que nuestra estrategia de validación es correcta."
   ]
  },
  {
   "cell_type": "code",
   "execution_count": 173,
   "metadata": {
    "hidden": true
   },
   "outputs": [
    {
     "data": {
      "text/plain": [
       "0.8398268398268398"
      ]
     },
     "execution_count": 173,
     "metadata": {},
     "output_type": "execute_result"
    }
   ],
   "source": [
    "max(val_acc_act2)"
   ]
  },
  {
   "cell_type": "code",
   "execution_count": 138,
   "metadata": {
    "hidden": true
   },
   "outputs": [],
   "source": [
    "# Vamos a obtener las Accuracies de cada clase para la Actividad 3\n",
    "acc_per_class_act2 = {}\n",
    "\n",
    "for class_ in range(200):\n",
    "    acc_per_class_act2[class_] = ((corrects_act2[class_]) / examples_per_class_act2[class_])"
   ]
  },
  {
   "cell_type": "markdown",
   "metadata": {
    "hidden": true
   },
   "source": [
    "### Actividad 3"
   ]
  },
  {
   "cell_type": "markdown",
   "metadata": {
    "hidden": true
   },
   "source": [
    "Realice una tabla resumen que compare las 2 estrategias de entrenamiento. ¿Cuál es la que obtiene mejores resultados? ¿Cuál(es) clases tiene mejores y peores resultados en términos de exactitud en cada una de las estretegias de entrenamiento? Justifique y entregue ejemplos."
   ]
  },
  {
   "cell_type": "markdown",
   "metadata": {
    "hidden": true
   },
   "source": [
    "Valor | Actividad 1 | Actividad 2\n",
    "--- | --- | ---\n",
    "Best Train Accuracy | 0.1087300749498575 | 0.815897814842183\n",
    "Best Train Loss | 4.073229166770024 | 0.7319886496662779\n",
    "Best Val Accuracy | 0.10216450216450217 | 0.8398268398268398\n",
    "Best Val Loss | 7.33907534776828 | 0.7620384426862082\n",
    "Test Accuracy | 0.1 | 0.8398268398268398\n",
    "\n",
    "Observamos claramente que la **Actividad 2 obtiene MEJORES RESULTADOS.** Esto se debe primero que el Test Accuracy es mayor, entonces nuestro modelo es mejor. Tambnién la Actividad 2 no sufre sobre-entrenamiento por lo mencionado en las actividades anteriores. Que la Actividad 2 sea mejor se debe principalmente al Transfer Learning que utilizamos, y debido a la falta de un gran volumen de datos, es la estrategia correcta.\n",
    "\n",
    "\n",
    "Respecto a las clases que tienen mejores y peores resultados en términos de exactitud en cada una de las estrategias de entrenamiento se observa que: en la Actividad 1 el 68.5% de las clases tienen una exactitud de 0, en cambio en la Actividad 2, sólo el 0.5% de las clases tienen una exactitud de 0. Tambien observamos que ninguna clase de la Actividad 1 tiene una exactitud de 1, en cambio en la Actividad 2, el 47% de las clases tiene una exactitud de 1. Primero, como se menciono anteriormente, estas diferencias son claramente porque el modelo de la Actividad 2 tiene mejores resultados, y en este punto estamos analizando una especie de sub-conjunto. \n"
   ]
  },
  {
   "cell_type": "markdown",
   "metadata": {
    "hidden": true
   },
   "source": [
    "### Actividad 4"
   ]
  },
  {
   "cell_type": "markdown",
   "metadata": {
    "hidden": true
   },
   "source": [
    "Repita la **Actividad 1**, pero en lugar de utilizar las funciones de activación del tipo ReLU, utilice funciones sigmoidales de tipo h(x) = 1/(1 + e^(-x)). Compare sus resultados con los obtenidos en la **Actividad 1**"
   ]
  },
  {
   "cell_type": "markdown",
   "metadata": {
    "heading_collapsed": true,
    "hidden": true
   },
   "source": [
    "#### Entrenando Modelo"
   ]
  },
  {
   "cell_type": "code",
   "execution_count": 143,
   "metadata": {
    "hidden": true
   },
   "outputs": [],
   "source": [
    "dic_values_act3 = {}\n",
    "\n",
    "for i in range(50):\n",
    "    dic_values_act3[i] = []\n"
   ]
  },
  {
   "cell_type": "code",
   "execution_count": 149,
   "metadata": {
    "hidden": true
   },
   "outputs": [
    {
     "name": "stdout",
     "output_type": "stream",
     "text": [
      "Epoch 0/49\n",
      "----------\n",
      "train Loss: 5.5806 Acc: 0.0065\n",
      "val Loss: 8.5033 Acc: 0.0104\n",
      "\n",
      "Epoch 1/49\n",
      "----------\n",
      "train Loss: 5.2686 Acc: 0.0086\n",
      "val Loss: 10.9241 Acc: 0.0165\n",
      "\n",
      "Epoch 2/49\n",
      "----------\n",
      "train Loss: 5.1662 Acc: 0.0147\n",
      "val Loss: 10.4652 Acc: 0.0147\n",
      "\n",
      "Epoch 3/49\n",
      "----------\n",
      "train Loss: 5.1134 Acc: 0.0128\n",
      "val Loss: 6.2090 Acc: 0.0199\n",
      "\n",
      "Epoch 4/49\n",
      "----------\n",
      "train Loss: 5.0713 Acc: 0.0136\n",
      "val Loss: 10.1108 Acc: 0.0173\n",
      "\n",
      "Epoch 5/49\n",
      "----------\n",
      "train Loss: 5.0272 Acc: 0.0128\n",
      "val Loss: 10.6336 Acc: 0.0216\n",
      "\n",
      "Epoch 6/49\n",
      "----------\n",
      "train Loss: 4.9807 Acc: 0.0194\n",
      "val Loss: 6.4438 Acc: 0.0199\n",
      "\n",
      "Epoch 7/49\n",
      "----------\n",
      "train Loss: 4.9339 Acc: 0.0202\n",
      "val Loss: 7.2499 Acc: 0.0260\n",
      "\n",
      "Epoch 8/49\n",
      "----------\n",
      "train Loss: 4.8972 Acc: 0.0236\n",
      "val Loss: 7.5418 Acc: 0.0320\n",
      "\n",
      "Epoch 9/49\n",
      "----------\n",
      "train Loss: 4.8301 Acc: 0.0318\n",
      "val Loss: 8.3362 Acc: 0.0433\n",
      "\n",
      "Epoch 10/49\n",
      "----------\n",
      "train Loss: 4.7476 Acc: 0.0355\n",
      "val Loss: 18.3354 Acc: 0.0355\n",
      "\n",
      "Epoch 11/49\n",
      "----------\n",
      "train Loss: 4.6846 Acc: 0.0409\n",
      "val Loss: 7.7525 Acc: 0.0442\n",
      "\n",
      "Epoch 12/49\n",
      "----------\n",
      "train Loss: 4.6186 Acc: 0.0469\n",
      "val Loss: 26.8768 Acc: 0.0442\n",
      "\n",
      "Epoch 13/49\n",
      "----------\n",
      "train Loss: 4.5814 Acc: 0.0500\n",
      "val Loss: 14.7324 Acc: 0.0398\n",
      "\n",
      "Epoch 14/49\n",
      "----------\n",
      "train Loss: 4.3958 Acc: 0.0650\n",
      "val Loss: 19.4242 Acc: 0.0571\n",
      "\n",
      "Epoch 15/49\n",
      "----------\n",
      "train Loss: 4.3549 Acc: 0.0718\n",
      "val Loss: 13.0617 Acc: 0.0589\n",
      "\n",
      "Epoch 16/49\n",
      "----------\n",
      "train Loss: 4.3220 Acc: 0.0767\n",
      "val Loss: 13.7049 Acc: 0.0476\n",
      "\n",
      "Epoch 17/49\n",
      "----------\n",
      "train Loss: 4.3234 Acc: 0.0758\n",
      "val Loss: 14.1066 Acc: 0.0606\n",
      "\n",
      "Epoch 18/49\n",
      "----------\n",
      "train Loss: 4.2866 Acc: 0.0777\n",
      "val Loss: 12.3793 Acc: 0.0684\n",
      "\n",
      "Epoch 19/49\n",
      "----------\n",
      "train Loss: 4.2709 Acc: 0.0777\n",
      "val Loss: 11.0777 Acc: 0.0684\n",
      "\n",
      "Epoch 20/49\n",
      "----------\n",
      "train Loss: 4.2364 Acc: 0.0889\n",
      "val Loss: 10.1866 Acc: 0.0753\n",
      "\n",
      "Epoch 21/49\n",
      "----------\n",
      "train Loss: 4.2497 Acc: 0.0875\n",
      "val Loss: 17.1596 Acc: 0.0649\n",
      "\n",
      "Epoch 22/49\n",
      "----------\n",
      "train Loss: 4.2228 Acc: 0.0858\n",
      "val Loss: 12.4947 Acc: 0.0753\n",
      "\n",
      "Epoch 23/49\n",
      "----------\n",
      "train Loss: 4.2043 Acc: 0.0913\n",
      "val Loss: 14.7345 Acc: 0.0788\n",
      "\n",
      "Epoch 24/49\n",
      "----------\n",
      "train Loss: 4.1889 Acc: 0.0957\n",
      "val Loss: 9.6816 Acc: 0.0779\n",
      "\n",
      "Epoch 25/49\n",
      "----------\n",
      "train Loss: 4.1777 Acc: 0.0885\n",
      "val Loss: 23.3549 Acc: 0.0753\n",
      "\n",
      "Epoch 26/49\n",
      "----------\n",
      "train Loss: 4.1642 Acc: 0.0919\n",
      "val Loss: 9.4966 Acc: 0.0857\n",
      "\n",
      "Epoch 27/49\n",
      "----------\n",
      "train Loss: 4.1556 Acc: 0.0866\n",
      "val Loss: 15.4108 Acc: 0.0874\n",
      "\n",
      "Epoch 28/49\n",
      "----------\n",
      "train Loss: 4.1471 Acc: 0.0959\n",
      "val Loss: 16.3235 Acc: 0.0848\n",
      "\n",
      "Epoch 29/49\n",
      "----------\n",
      "train Loss: 4.0881 Acc: 0.1083\n",
      "val Loss: 15.8924 Acc: 0.0797\n",
      "\n",
      "Epoch 30/49\n",
      "----------\n",
      "train Loss: 4.0791 Acc: 0.1095\n",
      "val Loss: 11.8022 Acc: 0.0892\n",
      "\n",
      "Epoch 31/49\n",
      "----------\n",
      "train Loss: 4.0701 Acc: 0.1124\n",
      "val Loss: 26.4834 Acc: 0.0866\n",
      "\n",
      "Epoch 32/49\n",
      "----------\n",
      "train Loss: 4.0598 Acc: 0.1082\n",
      "val Loss: 28.7729 Acc: 0.0805\n",
      "\n",
      "Epoch 33/49\n",
      "----------\n",
      "train Loss: 4.0549 Acc: 0.1131\n",
      "val Loss: 18.3761 Acc: 0.0788\n",
      "\n",
      "Epoch 34/49\n",
      "----------\n",
      "train Loss: 4.0722 Acc: 0.1124\n",
      "val Loss: 21.1433 Acc: 0.0892\n",
      "\n",
      "Epoch 35/49\n",
      "----------\n",
      "train Loss: 4.0468 Acc: 0.1122\n",
      "val Loss: 8.9258 Acc: 0.0978\n",
      "\n",
      "Epoch 36/49\n",
      "----------\n",
      "train Loss: 4.0494 Acc: 0.1128\n",
      "val Loss: 29.5439 Acc: 0.0848\n",
      "\n",
      "Epoch 37/49\n",
      "----------\n",
      "train Loss: 4.0376 Acc: 0.1101\n",
      "val Loss: 12.2894 Acc: 0.0987\n",
      "\n",
      "Epoch 38/49\n",
      "----------\n",
      "train Loss: 4.0480 Acc: 0.1128\n",
      "val Loss: 24.2978 Acc: 0.0892\n",
      "\n",
      "Epoch 39/49\n",
      "----------\n",
      "train Loss: 4.0605 Acc: 0.1125\n",
      "val Loss: 11.7701 Acc: 0.0944\n",
      "\n",
      "Epoch 40/49\n",
      "----------\n",
      "train Loss: 4.0251 Acc: 0.1111\n",
      "val Loss: 11.7883 Acc: 0.0926\n",
      "\n",
      "Epoch 41/49\n",
      "----------\n",
      "train Loss: 4.0418 Acc: 0.1114\n",
      "val Loss: 11.8134 Acc: 0.0909\n",
      "\n",
      "Epoch 42/49\n",
      "----------\n",
      "train Loss: 4.0616 Acc: 0.1088\n",
      "val Loss: 10.4152 Acc: 0.0900\n",
      "\n",
      "Epoch 43/49\n",
      "----------\n",
      "train Loss: 4.0213 Acc: 0.1222\n",
      "val Loss: 11.1406 Acc: 0.0944\n",
      "\n",
      "Epoch 44/49\n",
      "----------\n",
      "train Loss: 4.0299 Acc: 0.1113\n",
      "val Loss: 15.5234 Acc: 0.0918\n",
      "\n",
      "Epoch 45/49\n",
      "----------\n",
      "train Loss: 4.0314 Acc: 0.1112\n",
      "val Loss: 12.2472 Acc: 0.0952\n",
      "\n",
      "Epoch 46/49\n",
      "----------\n",
      "train Loss: 4.0224 Acc: 0.1158\n",
      "val Loss: 17.8092 Acc: 0.0848\n",
      "\n",
      "Epoch 47/49\n",
      "----------\n",
      "train Loss: 4.0205 Acc: 0.1156\n",
      "val Loss: 28.0383 Acc: 0.0970\n",
      "\n",
      "Epoch 48/49\n",
      "----------\n",
      "train Loss: 4.0257 Acc: 0.1146\n",
      "val Loss: 15.0852 Acc: 0.0952\n",
      "\n",
      "Epoch 49/49\n",
      "----------\n",
      "train Loss: 4.0200 Acc: 0.1147\n",
      "val Loss: 13.4084 Acc: 0.0848\n",
      "\n",
      "Training complete in 86m 25s\n",
      "Best val Acc: 0.098701\n"
     ]
    }
   ],
   "source": [
    "model_ft_act3 = models.resnet50(pretrained=False)\n",
    "num_ftrs_act3 = model_ft_act3.fc.in_features\n",
    "model_ft_act3.fc = nn.Linear(num_ftrs_act3, 200)\n",
    "\n",
    "# Cambiemos los Relu por Sigmoid (source: https://www.tensorflow.org/api_docs/python/tf/nn)\n",
    "modules = list(model_ft_act3.modules())\n",
    "\n",
    "for mod in modules:\n",
    "    try:\n",
    "        module.relu = nn.Sigmoid()\n",
    "    except:\n",
    "        pass\n",
    "\n",
    "\n",
    "model_ft_act3 = model_ft_act3.to(device)\n",
    "\n",
    "criterion = nn.CrossEntropyLoss()\n",
    "\n",
    "# Observe that all parameters are being optimized\n",
    "optimizer_ft_act3 = optim.SGD(model_ft_act3.parameters(), lr=0.001, momentum=0.9)\n",
    "\n",
    "# Decay LR by a factor of 0.1 every 7 epochs\n",
    "exp_lr_scheduler = lr_scheduler.StepLR(optimizer_ft_act3, step_size=15, gamma=0.1)\n",
    "\n",
    "model_ft_act3 = train_model(model_ft_act3, criterion, optimizer_ft_act3, exp_lr_scheduler, dic_values_act3,\n",
    "                       num_epochs=50)"
   ]
  },
  {
   "cell_type": "code",
   "execution_count": 150,
   "metadata": {
    "hidden": true
   },
   "outputs": [],
   "source": [
    "train_losses_act4 = []\n",
    "val_losses_act4 = []\n",
    "\n",
    "train_acc_act4 = []\n",
    "val_acc_act4 = []\n",
    "\n",
    "for epoch in dic_values_act3:\n",
    "    train_losses_act4.append(dic_values_act3[epoch][0][0])\n",
    "    val_losses_act4.append(dic_values_act3[epoch][1][0])\n",
    "    \n",
    "    train_acc_act4.append(dic_values_act3[epoch][0][1].item())\n",
    "    val_acc_act4.append(dic_values_act3[epoch][1][1].item())"
   ]
  },
  {
   "cell_type": "markdown",
   "metadata": {
    "hidden": true
   },
   "source": [
    "#### Evolución de función de pérdida vs número de épocas"
   ]
  },
  {
   "cell_type": "code",
   "execution_count": 151,
   "metadata": {
    "hidden": true
   },
   "outputs": [
    {
     "data": {
      "text/plain": [
       "Text(0.5, 0, 'Épocas(Epochs)')"
      ]
     },
     "execution_count": 151,
     "metadata": {},
     "output_type": "execute_result"
    },
    {
     "data": {
      "image/png": "[encoded data removed]",
      "text/plain": [
       "<Figure size 432x288 with 1 Axes>"
      ]
     },
     "metadata": {
      "needs_background": "light"
     },
     "output_type": "display_data"
    }
   ],
   "source": [
    "# line\n",
    "plt.plot(train_losses_act4)\n",
    "\n",
    "# title\n",
    "plt.title(\"Evolución de función de pérdida vs número de épocas - TRAIN SET\")\n",
    "\n",
    "# labels de los ejes\n",
    "plt.ylabel('Pérdida(Loss)')\n",
    "plt.xlabel('Épocas(Epochs)')"
   ]
  },
  {
   "cell_type": "code",
   "execution_count": 152,
   "metadata": {
    "hidden": true
   },
   "outputs": [
    {
     "data": {
      "text/plain": [
       "Text(0.5, 0, 'Épocas(Epochs)')"
      ]
     },
     "execution_count": 152,
     "metadata": {},
     "output_type": "execute_result"
    },
    {
     "data": {
      "image/png": "[encoded data removed]",
      "text/plain": [
       "<Figure size 432x288 with 1 Axes>"
      ]
     },
     "metadata": {
      "needs_background": "light"
     },
     "output_type": "display_data"
    }
   ],
   "source": [
    "# line\n",
    "plt.plot(val_losses_act4)\n",
    "\n",
    "# title\n",
    "plt.title(\"Evolución de función de pérdida vs número de épocas - VALIDATION SET\")\n",
    "\n",
    "# labels de los ejes\n",
    "plt.ylabel('Pérdida(Loss)')\n",
    "plt.xlabel('Épocas(Epochs)')"
   ]
  },
  {
   "cell_type": "markdown",
   "metadata": {
    "hidden": true
   },
   "source": [
    "#### Evolución de exactitud de clasificación vs número de épocas"
   ]
  },
  {
   "cell_type": "code",
   "execution_count": 157,
   "metadata": {
    "hidden": true
   },
   "outputs": [
    {
     "data": {
      "text/plain": [
       "Text(0.5, 0, 'Épocas(Epochs)')"
      ]
     },
     "execution_count": 157,
     "metadata": {},
     "output_type": "execute_result"
    },
    {
     "data": {
      "image/png": "[encoded data removed]",
      "text/plain": [
       "<Figure size 432x288 with 1 Axes>"
      ]
     },
     "metadata": {
      "needs_background": "light"
     },
     "output_type": "display_data"
    }
   ],
   "source": [
    "# line\n",
    "plt.plot(train_acc_act4)\n",
    "plt.plot(val_acc_act4)\n",
    "\n",
    "# title\n",
    "plt.title(\"Evolución de exactitud de clasificación vs número de épocas - VAL SET\")\n",
    "\n",
    "# labels de los ejes\n",
    "plt.ylabel('Exactitud de Clasificación(Accuracy)')\n",
    "plt.xlabel('Épocas(Epochs)')"
   ]
  },
  {
   "cell_type": "code",
   "execution_count": null,
   "metadata": {
    "hidden": true
   },
   "outputs": [],
   "source": [
    "# line\n",
    "plt.plot(val_acc_act4)\n",
    "\n",
    "# title\n",
    "plt.title(\"Evolución de exactitud de clasificación vs número de épocas - VAL SET\")\n",
    "\n",
    "# labels de los ejes\n",
    "plt.ylabel('Exactitud de Clasificación(Accuracy)')\n",
    "plt.xlabel('Épocas(Epochs)')"
   ]
  },
  {
   "cell_type": "markdown",
   "metadata": {
    "hidden": true
   },
   "source": [
    "#### Exactitud de clasificación final en set de test"
   ]
  },
  {
   "cell_type": "markdown",
   "metadata": {
    "hidden": true
   },
   "source": [
    "Source: Ayudantia SidIng"
   ]
  },
  {
   "cell_type": "code",
   "execution_count": 155,
   "metadata": {
    "hidden": true
   },
   "outputs": [],
   "source": [
    "'''\n",
    "Vamos a testear nuestro modelo entrenado en nuesto set de test, guardando los correctos por clase.\n",
    "'''\n",
    "\n",
    "corrects_act4 = {}\n",
    "examples_per_class_act4 = {}\n",
    "\n",
    "\n",
    "for i in range(200):\n",
    "    corrects_act4[i] = 0\n",
    "    examples_per_class_act4[i] = 0\n",
    "    \n",
    "\n",
    "# Iterate over data.\n",
    "for inputs, labels in dataloaders['test']:\n",
    "    inputs = inputs.to(device)\n",
    "    labels = labels.to(device)\n",
    "    \n",
    "    outputs = model_ft(inputs)\n",
    "    \n",
    "    _, preds = torch.max(outputs, 1)\n",
    "\n",
    "    for j in range(4):\n",
    "        if (labels.data[j].item() == preds[j].item()):\n",
    "            corrects_act4[preds[j].item()] += 1\n",
    "            \n",
    "        examples_per_class_act4[labels[j].item()] += 1\n",
    "    "
   ]
  },
  {
   "cell_type": "code",
   "execution_count": 156,
   "metadata": {
    "hidden": true
   },
   "outputs": [
    {
     "name": "stdout",
     "output_type": "stream",
     "text": [
      "0.1\n"
     ]
    }
   ],
   "source": [
    "# Vamos a Obtener la Exactitud total\n",
    "print((sum(corrects_act4.values()))\n",
    "      /(sum(examples_per_class_act4.values())))"
   ]
  },
  {
   "cell_type": "markdown",
   "metadata": {
    "hidden": true
   },
   "source": [
    "Vemos una Exactitud de clasificación Final (Accuracy) en el set de test de 0.1 = 10%"
   ]
  },
  {
   "cell_type": "markdown",
   "metadata": {
    "hidden": true
   },
   "source": [
    "#### Analysis Actividad 4"
   ]
  },
  {
   "cell_type": "markdown",
   "metadata": {
    "hidden": true
   },
   "source": [
    "Primero, es importante destacar que el único cambio que se realizó fue las ReLU por Sigmoid.\n",
    "\n",
    "Respecto a la Perdida vemos que la perdida menor en el set de train fue de **4.019984813749784** y en el set de val fue de **6.208960219379112**, sin duda esto es un reflejo que nuestro modelo se esta **sobre-entrenando**. También acerca de las pérdidas que va teniendo el modelo a lo largo del tiempo que el set de train baja de manera homogenea, y el modelo el train de set totalmente heterogenea, teniendo unos peaks muy extraños. Esto se debe a que la actualización de los pesos no esta siendo efectiva, ya sea por el **sobre-entrenamiento** que esta generando el modelo, o también porque el batch_size que utilice es muy pequeño.\n",
    "\n",
    "Respecto a la exactitud del modelo, vemos que la mayor exactitud en el set de train fue de **0.12224216193391745** y en el set de val fue de **0.0987012987012987**, siendo la del train de set mayor en **0.02354086323**, lo cual corresponde a un 23.8% mayor (estadisticamente = 0.12224216193391745/0.0987012987012987 - 1), lo cual si se considera representativo. Que la exactitud sea mayor en el set de train es un relfejo que existe un **sobre-entrenamiento**. También observando los gráficos se  en un comienzo suben homogenamente, pero desde un punto se separan (muy sutilmente, siendo que el Train continua subiendo y el Validate converge. Estas \"separaciones\" se deben a un **sobre-entrenando**. Esta separación ocurre en la epoca 15.\n",
    "\n",
    "Respecto a la Exactitud de clasificación final en el set de test fue de 0.1, más cercana a la exactitud del set de validación que el de test, esto quiere decir que nuestra estrategia de validación es correcta. Problemas de este sobre-entrenamiento que ha sido mencionado a lo largo del analysis se puede deber que no tenemos muchos datos, lo cual es uno de los puntos fundamentales para obtener buenos resultados en redes de aprendizaje de máquinas profundas, o puede haber existido una mala definición de lo Hyperparametros, sin embargo, mi intuición e investogación tanto lo que hemos visto en clases como lo que he investigado por mi cuenta se debe a la primer argumento.\n",
    "\n",
    "\n",
    "Realizando la comparación con los resultado obtenidos en la Actividad 1, se observa que **la Actividad 4 tiene PEORES RESULTADOS y CONVERGE MAS LENTO.** (1) El sobre-entrenamiento en la Actividad 4 es mucho más grande, debido a que alcanza una diferencia estadistica del 23.8% entre el set de Test y Validación, en cambio la Actividad 1 sólo un 6.5%. También observamos que converge más lento, dado que la Actividad 4 converge en la epoca 15, y la Actividad 1 en la pecoa 13."
   ]
  },
  {
   "cell_type": "code",
   "execution_count": 201,
   "metadata": {
    "hidden": true
   },
   "outputs": [
    {
     "data": {
      "text/plain": [
       "0.0987012987012987"
      ]
     },
     "execution_count": 201,
     "metadata": {},
     "output_type": "execute_result"
    }
   ],
   "source": [
    "max(val_acc_act4)"
   ]
  },
  {
   "cell_type": "markdown",
   "metadata": {
    "hidden": true
   },
   "source": [
    "Para hacerlo de maner ordenada, no voy a hacer un cuadro comparativo como tal, sino voy a hablar de cada una de las funciones de perdida por separado.\n",
    "\n",
    "\n",
    "\n",
    "**Triplet Loss**\n",
    "Es un algoritmo de aprendizaje que para redes neuronales de inteligencia artificial donde un input (a evaluar) (anchor) es comparado con un input con label positivo y otro con label negativo. Entonces, se **maximixa** la distancia entre en input (a evaluar) con el input con label negativo y se **minimiza** con el input con label positivo.\n",
    "\n",
    "Como observamos en el Articulo Lossless Triplet loss (source: https://towardsdatascience.com/lossless-triplet-loss-7e932f990b24), lo que se busca es acercar tu input lo mas posible al caso de dar una predicción positiva, y alejarla a que de una predicción negativa.\n",
    "\n",
    "Uno de los parametros que tiene es un margin parameter, el cual es denominado con un alpha, el cual indica que tanto menor tiene que ser el positivo. Bueno también como parametro de la función estan las distancias mencionadas anteriormente.\n",
    "\n",
    "Una de las tareas que se utilizan es para la Face Recognition, donde debemos comparar tu imagen de entrada (anchor) tanto con imagenes positivas (misma persona) como otras negativas (personas distintas). \n",
    "\n",
    "\n",
    "**Focal Loss**\n",
    "Partiendo explicando el Cross Entropy Loss, que se usa para la clasificación, el problema es que para Cross Entropy, no funciona bien en el caso de tener muchos ejemplos sencillos, pueden abrumar las clases mas complejas. Entonces para solucionar este el Focal Loss agrega un parametro, que le baja la incidencia de los pesos a los ejmplos faciles, y concentrando el entrenamiento en los más dificiles.\n",
    "\n",
    "Los parametros que tiene Focal loss es el y, llamada focusing parameter, que su función es ajustar que ejemplos tienen pesos bajos. Entonces cuando y = 0, Focal Loss es igual a Cross Entropy, y cuando y va aumentando, el efecto va aumentando.\n",
    "\n",
    "Entonces se usa en problemas de clasificación donde tenemos muchas imagenes sencillas, y sólo algunas dificiles. Por ejemplo, un amnbiente peatonal"
   ]
  },
  {
   "cell_type": "code",
   "execution_count": null,
   "metadata": {},
   "outputs": [],
   "source": []
  }
 ],
 "metadata": {
  "kernelspec": {
   "display_name": "Python 3",
   "language": "python",
   "name": "python3"
  },
  "language_info": {
   "codemirror_mode": {
    "name": "ipython",
    "version": 3
   },
   "file_extension": ".py",
   "mimetype": "text/x-python",
   "name": "python",
   "nbconvert_exporter": "python",
   "pygments_lexer": "ipython3",
   "version": "3.7.1"
  }
 },
 "nbformat": 4,
 "nbformat_minor": 2
}
